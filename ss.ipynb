{
 "cells": [
  {
   "cell_type": "code",
   "execution_count": 2,
   "metadata": {},
   "outputs": [
    {
     "name": "stdout",
     "output_type": "stream",
     "text": [
      "Device: cuda\n",
      "Current cuda device: 0\n",
      "Count of using GPUs: 1\n"
     ]
    }
   ],
   "source": [
    "import os.path as osp\n",
    "import os\n",
    "\n",
    "#torch 전에 할댕해줘야함\n",
    "os.environ[\"CUDA_DEVICE_ORDER\"]=\"PCI_BUS_ID\" \n",
    "os.environ[\"CUDA_VISIBLE_DEVICES\"]= \"1\"\n",
    "\n",
    "\n",
    "import torch\n",
    "from tqdm import tqdm\n",
    "\n",
    "from torch_geometric.datasets import AmazonBook, MovieLens100K\n",
    "from torch_geometric.nn import LightGCN\n",
    "from torch_geometric.utils import degree\n",
    "\n",
    "\n",
    "device = torch.device('cuda' if torch.cuda.is_available() else 'cpu')\n",
    "print('Device:', device)\n",
    "print('Current cuda device:', torch.cuda.current_device())\n",
    "print('Count of using GPUs:', torch.cuda.device_count())\n",
    "# 아마존\n",
    "path = osp.join('./', 'data', 'Amazon')\n",
    "dataset = AmazonBook(path)\n",
    "data = dataset[0]\n",
    "num_users, num_books = data['user'].num_nodes, data['book'].num_nodes\n",
    "data = data.to_homogeneous().to(device)"
   ]
  },
  {
   "cell_type": "code",
   "execution_count": 49,
   "metadata": {},
   "outputs": [],
   "source": [
    "import pandas as pd\n",
    "df = pd.read_csv('/home/jiwon/Jiwon_Rsch/mount/pygbased/data/Gowalla/raw/filtered_total.txt',sep = \" \" ,header =None, index_col = None)"
   ]
  },
  {
   "cell_type": "code",
   "execution_count": 50,
   "metadata": {},
   "outputs": [
    {
     "data": {
      "text/html": [
       "<div>\n",
       "<style scoped>\n",
       "    .dataframe tbody tr th:only-of-type {\n",
       "        vertical-align: middle;\n",
       "    }\n",
       "\n",
       "    .dataframe tbody tr th {\n",
       "        vertical-align: top;\n",
       "    }\n",
       "\n",
       "    .dataframe thead th {\n",
       "        text-align: right;\n",
       "    }\n",
       "</style>\n",
       "<table border=\"1\" class=\"dataframe\">\n",
       "  <thead>\n",
       "    <tr style=\"text-align: right;\">\n",
       "      <th></th>\n",
       "      <th>0</th>\n",
       "      <th>1</th>\n",
       "      <th>2</th>\n",
       "    </tr>\n",
       "  </thead>\n",
       "  <tbody>\n",
       "    <tr>\n",
       "      <th>0</th>\n",
       "      <td>0</td>\n",
       "      <td>4169</td>\n",
       "      <td>2010-10-19T23:55:27Z</td>\n",
       "    </tr>\n",
       "    <tr>\n",
       "      <th>1</th>\n",
       "      <td>0</td>\n",
       "      <td>31533</td>\n",
       "      <td>2010-10-18T22:17:43Z</td>\n",
       "    </tr>\n",
       "    <tr>\n",
       "      <th>2</th>\n",
       "      <td>0</td>\n",
       "      <td>29074</td>\n",
       "      <td>2010-10-17T23:42:03Z</td>\n",
       "    </tr>\n",
       "    <tr>\n",
       "      <th>3</th>\n",
       "      <td>0</td>\n",
       "      <td>2572</td>\n",
       "      <td>2010-10-17T19:26:05Z</td>\n",
       "    </tr>\n",
       "    <tr>\n",
       "      <th>4</th>\n",
       "      <td>0</td>\n",
       "      <td>40979</td>\n",
       "      <td>2010-10-16T18:50:42Z</td>\n",
       "    </tr>\n",
       "    <tr>\n",
       "      <th>...</th>\n",
       "      <td>...</td>\n",
       "      <td>...</td>\n",
       "      <td>...</td>\n",
       "    </tr>\n",
       "    <tr>\n",
       "      <th>1027459</th>\n",
       "      <td>29857</td>\n",
       "      <td>13173</td>\n",
       "      <td>2010-04-27T04:32:19Z</td>\n",
       "    </tr>\n",
       "    <tr>\n",
       "      <th>1027460</th>\n",
       "      <td>29857</td>\n",
       "      <td>392</td>\n",
       "      <td>2010-03-14T18:13:45Z</td>\n",
       "    </tr>\n",
       "    <tr>\n",
       "      <th>1027461</th>\n",
       "      <td>29857</td>\n",
       "      <td>30837</td>\n",
       "      <td>2010-03-13T03:29:55Z</td>\n",
       "    </tr>\n",
       "    <tr>\n",
       "      <th>1027462</th>\n",
       "      <td>29857</td>\n",
       "      <td>10578</td>\n",
       "      <td>2010-02-15T03:33:42Z</td>\n",
       "    </tr>\n",
       "    <tr>\n",
       "      <th>1027463</th>\n",
       "      <td>29857</td>\n",
       "      <td>24374</td>\n",
       "      <td>2010-02-13T07:49:03Z</td>\n",
       "    </tr>\n",
       "  </tbody>\n",
       "</table>\n",
       "<p>1027464 rows × 3 columns</p>\n",
       "</div>"
      ],
      "text/plain": [
       "             0      1                     2\n",
       "0            0   4169  2010-10-19T23:55:27Z\n",
       "1            0  31533  2010-10-18T22:17:43Z\n",
       "2            0  29074  2010-10-17T23:42:03Z\n",
       "3            0   2572  2010-10-17T19:26:05Z\n",
       "4            0  40979  2010-10-16T18:50:42Z\n",
       "...        ...    ...                   ...\n",
       "1027459  29857  13173  2010-04-27T04:32:19Z\n",
       "1027460  29857    392  2010-03-14T18:13:45Z\n",
       "1027461  29857  30837  2010-03-13T03:29:55Z\n",
       "1027462  29857  10578  2010-02-15T03:33:42Z\n",
       "1027463  29857  24374  2010-02-13T07:49:03Z\n",
       "\n",
       "[1027464 rows x 3 columns]"
      ]
     },
     "execution_count": 50,
     "metadata": {},
     "output_type": "execute_result"
    }
   ],
   "source": [
    "df"
   ]
  },
  {
   "cell_type": "code",
   "execution_count": 56,
   "metadata": {},
   "outputs": [
    {
     "data": {
      "text/plain": [
       "40988"
      ]
     },
     "execution_count": 56,
     "metadata": {},
     "output_type": "execute_result"
    }
   ],
   "source": [
    "len(df[1].unique())"
   ]
  },
  {
   "cell_type": "code",
   "execution_count": null,
   "metadata": {},
   "outputs": [],
   "source": []
  }
 ],
 "metadata": {
  "kernelspec": {
   "display_name": "Python 3",
   "language": "python",
   "name": "python3"
  },
  "language_info": {
   "codemirror_mode": {
    "name": "ipython",
    "version": 3
   },
   "file_extension": ".py",
   "mimetype": "text/x-python",
   "name": "python",
   "nbconvert_exporter": "python",
   "pygments_lexer": "ipython3",
   "version": "3.9.20"
  }
 },
 "nbformat": 4,
 "nbformat_minor": 2
}
